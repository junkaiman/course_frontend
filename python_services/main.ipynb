{
 "cells": [
  {
   "cell_type": "code",
   "execution_count": 9,
   "metadata": {},
   "outputs": [],
   "source": [
    "# # browser 抓包 id=\"win0divSSR_CLSRSLT_WRK_GROUPBOX1\"\n",
    "# # 全部复制保存\n",
    "# data = open(\"./2019spring.txt\").readlines()\n",
    "\n",
    "# # find \"PAGROUPBOXLABELLEVEL1\"\n",
    "# data = filter(lambda x: \"PAGROUPBOXLABELLEVEL1\" in x, data)\n",
    "# data = list(data)\n"
   ]
  },
  {
   "cell_type": "code",
   "execution_count": 10,
   "metadata": {},
   "outputs": [],
   "source": [
    "# import re\n",
    "\n",
    "# course_names = []\n",
    "# for item in data:\n",
    "#     result = re.search(r'>&nbsp;([^<]*)&nbsp;</div>', item)\n",
    "#     if result:\n",
    "#         course_name = result.group(1).strip()\n",
    "#         course_name = course_name.replace('  ', ' ', 1)\n",
    "#         course_names.append(course_name)\n",
    "# print(len(course_names))"
   ]
  },
  {
   "cell_type": "code",
   "execution_count": 11,
   "metadata": {},
   "outputs": [],
   "source": [
    "# course_dict = {}\n",
    "\n",
    "# for course_name in course_names:\n",
    "#     x = [part.strip() for part in course_name.split(\"-\", 1)]\n",
    "#     assert(len(x) == 2) # make sure we have two parts\n",
    "#     course_dict[x[0]] = x[1]\n",
    "\n",
    "# # print(course_dict)"
   ]
  },
  {
   "cell_type": "code",
   "execution_count": 12,
   "metadata": {},
   "outputs": [],
   "source": [
    "# course_dict"
   ]
  },
  {
   "cell_type": "code",
   "execution_count": 13,
   "metadata": {},
   "outputs": [],
   "source": [
    "import re\n",
    "\n",
    "def raw_to_dict(filename):\n",
    "    data = open(filename).readlines()\n",
    "    # find \"PAGROUPBOXLABELLEVEL1\"\n",
    "    data = filter(lambda x: \"PAGROUPBOXLABELLEVEL1\" in x, data)\n",
    "    data = list(data)\n",
    "\n",
    "    course_names = []\n",
    "    for item in data:\n",
    "        result = re.search(r'>&nbsp;([^<]*)&nbsp;</div>', item)\n",
    "        if result:\n",
    "            # DO SOME CLEANING\n",
    "            course_name = result.group(1).strip()\n",
    "            course_name = course_name.replace('&amp;', '')\n",
    "            course_name = course_name.replace('&nbsp;', '')\n",
    "            course_name = course_name.replace('   ', ' ', 1)\n",
    "            course_name = course_name.replace('  ', ' ', 1)\n",
    "            course_names.append(course_name)\n",
    "\n",
    "    course_dict = {}\n",
    "\n",
    "    for course_name in course_names:\n",
    "        x = [part.strip() for part in course_name.split(\"-\", 1)]\n",
    "        assert(len(x) == 2) # make sure we have two parts\n",
    "        course_dict[x[0]] = x[1]\n",
    "    return course_dict\n"
   ]
  },
  {
   "cell_type": "code",
   "execution_count": 14,
   "metadata": {},
   "outputs": [],
   "source": [
    "sp19 = raw_to_dict(\"./2019spring.txt\")\n",
    "fa19 = raw_to_dict(\"./2019fall.txt\")\n",
    "sp20 = raw_to_dict(\"./2020spring.txt\")\n",
    "fa20 = raw_to_dict(\"./2020fall.txt\")\n",
    "sp21 = raw_to_dict(\"./2021spring.txt\")\n",
    "fa21 = raw_to_dict(\"./2021fall.txt\")\n",
    "sp22 = raw_to_dict(\"./2022spring.txt\")\n",
    "fa22 = raw_to_dict(\"./2022fall.txt\")\n",
    "sp23 = raw_to_dict(\"./2023spring.txt\")"
   ]
  },
  {
   "cell_type": "code",
   "execution_count": 15,
   "metadata": {},
   "outputs": [],
   "source": [
    "import pandas as pd\n",
    "\n",
    "# remove sp19 sp20 because nobody cares\n",
    "df = pd.DataFrame([sp20, fa20, sp21, fa21, sp22, fa22, sp23])\n",
    "df = df.T\n",
    "# df"
   ]
  },
  {
   "cell_type": "code",
   "execution_count": 16,
   "metadata": {},
   "outputs": [
    {
     "name": "stderr",
     "output_type": "stream",
     "text": [
      "/Users/keon/miniconda3/lib/python3.8/site-packages/pandas/core/algorithms.py:969: UserWarning: Unable to sort modes: '<' not supported between instances of 'int' and 'str'\n",
      "  warn(f\"Unable to sort modes: {err}\")\n"
     ]
    }
   ],
   "source": [
    "df['count'] = df.count(axis=1)\n",
    "df['name'] = df.mode(axis=1)[0]\n",
    "# df"
   ]
  },
  {
   "cell_type": "code",
   "execution_count": 17,
   "metadata": {},
   "outputs": [
    {
     "name": "stdout",
     "output_type": "stream",
     "text": [
      "ARHU 101                 The Art of Interpretation: Written Texts\n",
      "ARHU 102              The Art of Interpretation: Images and Sound\n",
      "BEHAVSCI 101                   Introduction to Behavioral Science\n",
      "BEHAVSCI 102                         Mechanisms of Human Behavior\n",
      "BEHAVSCI 201                      Individuals and Their Decisions\n",
      "                                      ...                        \n",
      "WOC 212         Composing Research 2: Developing a Research Paper\n",
      "WOC 213                From Text to World: Editing and Publishing\n",
      "WOC 214         Reading Chinese Love Stories in Novels and Mem...\n",
      "WOC 215                  Watching Forbidden Love in Chinese Films\n",
      "WOC 290                   Special Topics: Writing Across Cultures\n",
      "Name: name, Length: 554, dtype: object\n"
     ]
    }
   ],
   "source": [
    "course_df = df['name']\n",
    "course_df.sort_index(inplace=True)\n",
    "course_df.to_csv(\"dku_course_list_20230104.csv\", header=False)\n",
    "print(df['name'])"
   ]
  },
  {
   "cell_type": "code",
   "execution_count": null,
   "metadata": {},
   "outputs": [],
   "source": []
  }
 ],
 "metadata": {
  "kernelspec": {
   "display_name": "base",
   "language": "python",
   "name": "python3"
  },
  "language_info": {
   "codemirror_mode": {
    "name": "ipython",
    "version": 3
   },
   "file_extension": ".py",
   "mimetype": "text/x-python",
   "name": "python",
   "nbconvert_exporter": "python",
   "pygments_lexer": "ipython3",
   "version": "3.8.11"
  },
  "orig_nbformat": 4,
  "vscode": {
   "interpreter": {
    "hash": "202218628a6c55f5e95190d3dcd6876fd88c75eb02db5609e66521b006311420"
   }
  }
 },
 "nbformat": 4,
 "nbformat_minor": 2
}
